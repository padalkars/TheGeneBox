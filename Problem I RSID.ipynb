{
 "cells": [
  {
   "cell_type": "code",
   "execution_count": 2,
   "metadata": {},
   "outputs": [],
   "source": [
    "import pandas as pd\n",
    "import numpy as np\n",
    "import matplotlib.pyplot as plt"
   ]
  },
  {
   "cell_type": "code",
   "execution_count": 3,
   "metadata": {},
   "outputs": [],
   "source": [
    "import os"
   ]
  },
  {
   "cell_type": "code",
   "execution_count": 4,
   "metadata": {},
   "outputs": [],
   "source": [
    "data = pd.read_table('Problem I - rsids.txt')"
   ]
  },
  {
   "cell_type": "code",
   "execution_count": 5,
   "metadata": {},
   "outputs": [
    {
     "data": {
      "text/html": [
       "<div>\n",
       "<style scoped>\n",
       "    .dataframe tbody tr th:only-of-type {\n",
       "        vertical-align: middle;\n",
       "    }\n",
       "\n",
       "    .dataframe tbody tr th {\n",
       "        vertical-align: top;\n",
       "    }\n",
       "\n",
       "    .dataframe thead th {\n",
       "        text-align: right;\n",
       "    }\n",
       "</style>\n",
       "<table border=\"1\" class=\"dataframe\">\n",
       "  <thead>\n",
       "    <tr style=\"text-align: right;\">\n",
       "      <th></th>\n",
       "      <th>Annotation</th>\n",
       "      <th>Chr</th>\n",
       "      <th>Position</th>\n",
       "      <th>Genotypes</th>\n",
       "    </tr>\n",
       "  </thead>\n",
       "  <tbody>\n",
       "    <tr>\n",
       "      <th>0</th>\n",
       "      <td>rs121434297</td>\n",
       "      <td>1</td>\n",
       "      <td>11855218</td>\n",
       "      <td>AA|0.4581</td>\n",
       "    </tr>\n",
       "    <tr>\n",
       "      <th>1</th>\n",
       "      <td>rs387907088</td>\n",
       "      <td>12</td>\n",
       "      <td>65722364</td>\n",
       "      <td>TT|0.4953</td>\n",
       "    </tr>\n",
       "    <tr>\n",
       "      <th>2</th>\n",
       "      <td>rs121434561</td>\n",
       "      <td>19</td>\n",
       "      <td>48624501</td>\n",
       "      <td>GG|0.4929</td>\n",
       "    </tr>\n",
       "    <tr>\n",
       "      <th>3</th>\n",
       "      <td>rs1109867</td>\n",
       "      <td>2</td>\n",
       "      <td>220083453</td>\n",
       "      <td>TG|0.7395</td>\n",
       "    </tr>\n",
       "    <tr>\n",
       "      <th>4</th>\n",
       "      <td>rs2231164</td>\n",
       "      <td>4</td>\n",
       "      <td>89015857</td>\n",
       "      <td>TT|0.8277</td>\n",
       "    </tr>\n",
       "  </tbody>\n",
       "</table>\n",
       "</div>"
      ],
      "text/plain": [
       "    Annotation Chr   Position  Genotypes\n",
       "0  rs121434297   1   11855218  AA|0.4581\n",
       "1  rs387907088  12   65722364  TT|0.4953\n",
       "2  rs121434561  19   48624501  GG|0.4929\n",
       "3    rs1109867   2  220083453  TG|0.7395\n",
       "4    rs2231164   4   89015857  TT|0.8277"
      ]
     },
     "execution_count": 5,
     "metadata": {},
     "output_type": "execute_result"
    }
   ],
   "source": [
    "data.head()"
   ]
  },
  {
   "cell_type": "code",
   "execution_count": 6,
   "metadata": {},
   "outputs": [
    {
     "data": {
      "text/plain": [
       "Annotation    object\n",
       "Chr           object\n",
       "Position       int64\n",
       "Genotypes     object\n",
       "dtype: object"
      ]
     },
     "execution_count": 6,
     "metadata": {},
     "output_type": "execute_result"
    }
   ],
   "source": [
    "data.dtypes"
   ]
  },
  {
   "cell_type": "code",
   "execution_count": 7,
   "metadata": {},
   "outputs": [
    {
     "data": {
      "text/plain": [
       "[Empty DataFrame\n",
       " Columns: [Annotation, Chr, Position, Genotypes]\n",
       " Index: [], Empty DataFrame\n",
       " Columns: [Annotation, Chr, Position, Genotypes]\n",
       " Index: [], Empty DataFrame\n",
       " Columns: [Annotation, Chr, Position, Genotypes]\n",
       " Index: []]"
      ]
     },
     "execution_count": 7,
     "metadata": {},
     "output_type": "execute_result"
    }
   ],
   "source": [
    "[data.loc[data[col]=='--', :].head() for col in data.columns if(col!='Position')]"
   ]
  },
  {
   "cell_type": "code",
   "execution_count": 8,
   "metadata": {},
   "outputs": [
    {
     "data": {
      "text/html": [
       "<div>\n",
       "<style scoped>\n",
       "    .dataframe tbody tr th:only-of-type {\n",
       "        vertical-align: middle;\n",
       "    }\n",
       "\n",
       "    .dataframe tbody tr th {\n",
       "        vertical-align: top;\n",
       "    }\n",
       "\n",
       "    .dataframe thead th {\n",
       "        text-align: right;\n",
       "    }\n",
       "</style>\n",
       "<table border=\"1\" class=\"dataframe\">\n",
       "  <thead>\n",
       "    <tr style=\"text-align: right;\">\n",
       "      <th></th>\n",
       "      <th>rsID</th>\n",
       "      <th>Chr</th>\n",
       "      <th>Position</th>\n",
       "      <th>Genotypes</th>\n",
       "    </tr>\n",
       "  </thead>\n",
       "  <tbody>\n",
       "    <tr>\n",
       "      <th>0</th>\n",
       "      <td>rs121434297</td>\n",
       "      <td>1</td>\n",
       "      <td>11855218</td>\n",
       "      <td>AA|0.4581</td>\n",
       "    </tr>\n",
       "    <tr>\n",
       "      <th>1</th>\n",
       "      <td>rs387907088</td>\n",
       "      <td>12</td>\n",
       "      <td>65722364</td>\n",
       "      <td>TT|0.4953</td>\n",
       "    </tr>\n",
       "    <tr>\n",
       "      <th>2</th>\n",
       "      <td>rs121434561</td>\n",
       "      <td>19</td>\n",
       "      <td>48624501</td>\n",
       "      <td>GG|0.4929</td>\n",
       "    </tr>\n",
       "    <tr>\n",
       "      <th>3</th>\n",
       "      <td>rs1109867</td>\n",
       "      <td>2</td>\n",
       "      <td>220083453</td>\n",
       "      <td>TG|0.7395</td>\n",
       "    </tr>\n",
       "    <tr>\n",
       "      <th>4</th>\n",
       "      <td>rs2231164</td>\n",
       "      <td>4</td>\n",
       "      <td>89015857</td>\n",
       "      <td>TT|0.8277</td>\n",
       "    </tr>\n",
       "  </tbody>\n",
       "</table>\n",
       "</div>"
      ],
      "text/plain": [
       "          rsID Chr   Position  Genotypes\n",
       "0  rs121434297   1   11855218  AA|0.4581\n",
       "1  rs387907088  12   65722364  TT|0.4953\n",
       "2  rs121434561  19   48624501  GG|0.4929\n",
       "3    rs1109867   2  220083453  TG|0.7395\n",
       "4    rs2231164   4   89015857  TT|0.8277"
      ]
     },
     "execution_count": 8,
     "metadata": {},
     "output_type": "execute_result"
    }
   ],
   "source": [
    "data.columns = data.columns.str.replace('Annotation', 'rsID')\n",
    "data.head()"
   ]
  },
  {
   "cell_type": "code",
   "execution_count": 9,
   "metadata": {},
   "outputs": [],
   "source": [
    "#Separate the call score from Genometypes\n",
    "genome_type, genome_score = [], []\n",
    "\n",
    "def create_type_score(data):\n",
    "    type_, score = data.split('|')\n",
    "    genome_type.append(type_)\n",
    "    genome_score.append(score)\n",
    "    "
   ]
  },
  {
   "cell_type": "code",
   "execution_count": 10,
   "metadata": {},
   "outputs": [],
   "source": [
    "#Create two columns with Genome Type and Scores\n",
    "#Removing the column 'Genotypes'\n",
    "def create_cols(data):\n",
    "    global genome_type, genome_score\n",
    "    if(len(genome_score)==0 and len(genome_type)==0):\n",
    "        \n",
    "        #Apply the function for each row of the column Genotypes\n",
    "        list(map(create_type_score, data['Genotypes']))\n",
    "        data['Genome Type'], data['Genome Call Score'] =  genome_type, genome_score\n",
    "        \n",
    "        return\n",
    "    else:\n",
    "        genome_type, genome_score = [], []\n",
    "        "
   ]
  },
  {
   "cell_type": "code",
   "execution_count": 11,
   "metadata": {},
   "outputs": [
    {
     "name": "stdout",
     "output_type": "stream",
     "text": [
      "          rsID Chr   Position Genome Type Genome Call Score\n",
      "0  rs121434297   1   11855218          AA            0.4581\n",
      "1  rs387907088  12   65722364          TT            0.4953\n",
      "2  rs121434561  19   48624501          GG            0.4929\n",
      "3    rs1109867   2  220083453          TG            0.7395\n",
      "4    rs2231164   4   89015857          TT            0.8277\n"
     ]
    },
    {
     "data": {
      "text/plain": [
       "[3000, 3000]"
      ]
     },
     "execution_count": 11,
     "metadata": {},
     "output_type": "execute_result"
    }
   ],
   "source": [
    "if('Genotypes' in data.columns):\n",
    "    create_cols(data)\n",
    "    data = data.drop(['Genotypes'], axis=1)\n",
    "    print(data.head())\n",
    "list(map(len, [genome_type, genome_score]))"
   ]
  },
  {
   "cell_type": "code",
   "execution_count": 12,
   "metadata": {},
   "outputs": [
    {
     "data": {
      "text/html": [
       "<div>\n",
       "<style scoped>\n",
       "    .dataframe tbody tr th:only-of-type {\n",
       "        vertical-align: middle;\n",
       "    }\n",
       "\n",
       "    .dataframe tbody tr th {\n",
       "        vertical-align: top;\n",
       "    }\n",
       "\n",
       "    .dataframe thead th {\n",
       "        text-align: right;\n",
       "    }\n",
       "</style>\n",
       "<table border=\"1\" class=\"dataframe\">\n",
       "  <thead>\n",
       "    <tr style=\"text-align: right;\">\n",
       "      <th></th>\n",
       "      <th>rsID</th>\n",
       "      <th>Chr</th>\n",
       "      <th>Position</th>\n",
       "      <th>Genome Type</th>\n",
       "      <th>Genome Call Score</th>\n",
       "    </tr>\n",
       "  </thead>\n",
       "  <tbody>\n",
       "    <tr>\n",
       "      <th>0</th>\n",
       "      <td>rs121434297</td>\n",
       "      <td>1</td>\n",
       "      <td>11855218</td>\n",
       "      <td>AA</td>\n",
       "      <td>0.4581</td>\n",
       "    </tr>\n",
       "    <tr>\n",
       "      <th>1</th>\n",
       "      <td>rs387907088</td>\n",
       "      <td>12</td>\n",
       "      <td>65722364</td>\n",
       "      <td>TT</td>\n",
       "      <td>0.4953</td>\n",
       "    </tr>\n",
       "    <tr>\n",
       "      <th>2</th>\n",
       "      <td>rs121434561</td>\n",
       "      <td>19</td>\n",
       "      <td>48624501</td>\n",
       "      <td>GG</td>\n",
       "      <td>0.4929</td>\n",
       "    </tr>\n",
       "    <tr>\n",
       "      <th>3</th>\n",
       "      <td>rs1109867</td>\n",
       "      <td>2</td>\n",
       "      <td>220083453</td>\n",
       "      <td>TG</td>\n",
       "      <td>0.7395</td>\n",
       "    </tr>\n",
       "    <tr>\n",
       "      <th>4</th>\n",
       "      <td>rs2231164</td>\n",
       "      <td>4</td>\n",
       "      <td>89015857</td>\n",
       "      <td>TT</td>\n",
       "      <td>0.8277</td>\n",
       "    </tr>\n",
       "  </tbody>\n",
       "</table>\n",
       "</div>"
      ],
      "text/plain": [
       "          rsID Chr   Position Genome Type Genome Call Score\n",
       "0  rs121434297   1   11855218          AA            0.4581\n",
       "1  rs387907088  12   65722364          TT            0.4953\n",
       "2  rs121434561  19   48624501          GG            0.4929\n",
       "3    rs1109867   2  220083453          TG            0.7395\n",
       "4    rs2231164   4   89015857          TT            0.8277"
      ]
     },
     "execution_count": 12,
     "metadata": {},
     "output_type": "execute_result"
    }
   ],
   "source": [
    "data.head()"
   ]
  },
  {
   "cell_type": "markdown",
   "metadata": {},
   "source": [
    "## A\n",
    "Find unique rsIDs and chromosome and location with genotype keeping in mind the following\n",
    "things:\n",
    "\n",
    "1) While removing duplication consider keeping observations with higher call rates\n",
    "\n",
    "2) Remove no calls represented as ‘--’ but if all repeated observation are no calls keep one\n",
    "observation with no call (to imply that rsID has no call in the data)."
   ]
  },
  {
   "cell_type": "code",
   "execution_count": 13,
   "metadata": {},
   "outputs": [],
   "source": [
    "def plotting(data, var_X, var_y, rs_id):\n",
    "    title = var_X + ' Versus ' + var_y\n",
    "    plt.scatter(data[var_X], data[var_y])\n",
    "    plt.title(title)\n",
    "    plt.xlabel(var_X)\n",
    "    plt.ylabel(var_y)\n",
    "    #plt.show()\n",
    "    plt.savefig(os.getcwd() + \"/Plots/\" + str(rs_id) + \"_\" + title + '.png')"
   ]
  },
  {
   "cell_type": "code",
   "execution_count": 14,
   "metadata": {},
   "outputs": [],
   "source": [
    "#Find pattern in the data\n",
    "def analyze_duplicates(data, rs_id):\n",
    "    #Is the variation located on the same \n",
    "    #chromosome for all the duplicates.\n",
    "    plotting(data, 'Chr', 'Position', rs_id)\n",
    "    plotting(data, 'Chr', 'Genome Type', rs_id)\n",
    "    plotting(data, 'Genome Type', 'Genome Call Score', rs_id)\n",
    "    "
   ]
  },
  {
   "cell_type": "code",
   "execution_count": null,
   "metadata": {},
   "outputs": [],
   "source": [
    "#Resultant Data\n",
    "result_df = pd.DataFrame(columns=data.columns)\n",
    "\n",
    "#Group the rows by 'rsID'\n",
    "data_grp = data.groupby('rsID')\n",
    "\n",
    "#Sort each group in descending order of Genome Call Score\n",
    "for grp, df in data_grp:\n",
    "    #Need to consider the groups as independent data frames\n",
    "    df = df.reset_index()\n",
    "    \n",
    "    #An additional(redundant) variable 'index' will be created\n",
    "    df = df.drop(['index'], axis=1)\n",
    "    \n",
    "    df = df.sort_values(by='Genome Call Score', ascending=False)\n",
    "    \n",
    "    #Keep only the first row amongst the duplicate rows\n",
    "    result_df = pd.concat([result_df, df.iloc[:1,:]], axis=0)\n",
    "    \n",
    "    #If multiple entries in df ====> Duplicate entries\n",
    "    "
   ]
  },
  {
   "cell_type": "code",
   "execution_count": null,
   "metadata": {},
   "outputs": [],
   "source": [
    "#List Comprehension is \n",
    "[analyze_duplicates(df, grp) for grp, df in data_grp if(df.shape[0]>1)]"
   ]
  },
  {
   "cell_type": "code",
   "execution_count": 192,
   "metadata": {},
   "outputs": [
    {
     "data": {
      "text/plain": [
       "1524"
      ]
     },
     "execution_count": 192,
     "metadata": {},
     "output_type": "execute_result"
    }
   ],
   "source": [
    "len(list(data_grp.groups.keys()))"
   ]
  },
  {
   "cell_type": "code",
   "execution_count": 193,
   "metadata": {},
   "outputs": [
    {
     "data": {
      "text/plain": [
       "(3000, 5)"
      ]
     },
     "execution_count": 193,
     "metadata": {},
     "output_type": "execute_result"
    }
   ],
   "source": [
    "data.shape"
   ]
  },
  {
   "cell_type": "raw",
   "metadata": {},
   "source": [
    "There are 1524 unique rsIDs"
   ]
  },
  {
   "cell_type": "code",
   "execution_count": 179,
   "metadata": {},
   "outputs": [
    {
     "data": {
      "text/html": [
       "<div>\n",
       "<style scoped>\n",
       "    .dataframe tbody tr th:only-of-type {\n",
       "        vertical-align: middle;\n",
       "    }\n",
       "\n",
       "    .dataframe tbody tr th {\n",
       "        vertical-align: top;\n",
       "    }\n",
       "\n",
       "    .dataframe thead th {\n",
       "        text-align: right;\n",
       "    }\n",
       "</style>\n",
       "<table border=\"1\" class=\"dataframe\">\n",
       "  <thead>\n",
       "    <tr style=\"text-align: right;\">\n",
       "      <th></th>\n",
       "      <th>rsID</th>\n",
       "      <th>Chr</th>\n",
       "      <th>Position</th>\n",
       "      <th>Genome Type</th>\n",
       "      <th>Genome Call Score</th>\n",
       "    </tr>\n",
       "  </thead>\n",
       "  <tbody>\n",
       "    <tr>\n",
       "      <th>0</th>\n",
       "      <td>1:207754848-gataa-g</td>\n",
       "      <td>1</td>\n",
       "      <td>207754848</td>\n",
       "      <td>II</td>\n",
       "      <td>0.8803</td>\n",
       "    </tr>\n",
       "    <tr>\n",
       "      <th>0</th>\n",
       "      <td>rs10007810</td>\n",
       "      <td>4</td>\n",
       "      <td>41554364</td>\n",
       "      <td>AG</td>\n",
       "      <td>0.4823</td>\n",
       "    </tr>\n",
       "    <tr>\n",
       "      <th>1</th>\n",
       "      <td>rs10037858</td>\n",
       "      <td>5</td>\n",
       "      <td>156766708</td>\n",
       "      <td>GG</td>\n",
       "      <td>0.9145</td>\n",
       "    </tr>\n",
       "    <tr>\n",
       "      <th>1</th>\n",
       "      <td>rs10108270</td>\n",
       "      <td>8</td>\n",
       "      <td>4190793</td>\n",
       "      <td>AC</td>\n",
       "      <td>0.6523</td>\n",
       "    </tr>\n",
       "    <tr>\n",
       "      <th>0</th>\n",
       "      <td>rs10136766</td>\n",
       "      <td>14</td>\n",
       "      <td>106232585</td>\n",
       "      <td>GG</td>\n",
       "      <td>0.4365</td>\n",
       "    </tr>\n",
       "  </tbody>\n",
       "</table>\n",
       "</div>"
      ],
      "text/plain": [
       "                  rsID Chr   Position Genome Type Genome Call Score\n",
       "0  1:207754848-gataa-g   1  207754848          II            0.8803\n",
       "0           rs10007810   4   41554364          AG            0.4823\n",
       "1           rs10037858   5  156766708          GG            0.9145\n",
       "1           rs10108270   8    4190793          AC            0.6523\n",
       "0           rs10136766  14  106232585          GG            0.4365"
      ]
     },
     "execution_count": 179,
     "metadata": {},
     "output_type": "execute_result"
    }
   ],
   "source": [
    "result_df.head()"
   ]
  },
  {
   "cell_type": "code",
   "execution_count": 177,
   "metadata": {},
   "outputs": [
    {
     "data": {
      "text/html": [
       "<div>\n",
       "<style scoped>\n",
       "    .dataframe tbody tr th:only-of-type {\n",
       "        vertical-align: middle;\n",
       "    }\n",
       "\n",
       "    .dataframe tbody tr th {\n",
       "        vertical-align: top;\n",
       "    }\n",
       "\n",
       "    .dataframe thead th {\n",
       "        text-align: right;\n",
       "    }\n",
       "</style>\n",
       "<table border=\"1\" class=\"dataframe\">\n",
       "  <thead>\n",
       "    <tr style=\"text-align: right;\">\n",
       "      <th></th>\n",
       "      <th>rsID</th>\n",
       "      <th>Chr</th>\n",
       "      <th>Position</th>\n",
       "      <th>Genome Type</th>\n",
       "      <th>Genome Call Score</th>\n",
       "    </tr>\n",
       "  </thead>\n",
       "  <tbody>\n",
       "  </tbody>\n",
       "</table>\n",
       "</div>"
      ],
      "text/plain": [
       "Empty DataFrame\n",
       "Columns: [rsID, Chr, Position, Genome Type, Genome Call Score]\n",
       "Index: []"
      ]
     },
     "execution_count": 177,
     "metadata": {},
     "output_type": "execute_result"
    }
   ],
   "source": []
  },
  {
   "cell_type": "code",
   "execution_count": null,
   "metadata": {},
   "outputs": [],
   "source": []
  },
  {
   "cell_type": "code",
   "execution_count": null,
   "metadata": {},
   "outputs": [],
   "source": []
  }
 ],
 "metadata": {
  "kernelspec": {
   "display_name": "Python 3",
   "language": "python",
   "name": "python3"
  },
  "language_info": {
   "codemirror_mode": {
    "name": "ipython",
    "version": 3
   },
   "file_extension": ".py",
   "mimetype": "text/x-python",
   "name": "python",
   "nbconvert_exporter": "python",
   "pygments_lexer": "ipython3",
   "version": "3.6.5"
  }
 },
 "nbformat": 4,
 "nbformat_minor": 2
}
